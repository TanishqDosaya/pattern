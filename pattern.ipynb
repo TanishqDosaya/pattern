{
 "cells": [
  {
   "cell_type": "code",
   "execution_count": 3,
   "id": "4f363861-b7b6-49c3-9920-01d97e993e43",
   "metadata": {},
   "outputs": [
    {
     "name": "stdout",
     "output_type": "stream",
     "text": [
      "45\n"
     ]
    }
   ],
   "source": [
    "total=0\n",
    "\n",
    "for x in range(1,10):\n",
    "    total +=x\n",
    "print(total)"
   ]
  },
  {
   "cell_type": "raw",
   "id": "6d2ab3b0-1c14-408f-8abf-d63ea1e53e7f",
   "metadata": {},
   "source": []
  },
  {
   "cell_type": "code",
   "execution_count": 5,
   "id": "c9735295-21d7-49c1-9271-8c62921782d5",
   "metadata": {},
   "outputs": [
    {
     "name": "stdout",
     "output_type": "stream",
     "text": [
      "36890931152910632878080000\n"
     ]
    }
   ],
   "source": [
    "for x in range(15,100):\n",
    "    if(x%2==0 and x%3==0):\n",
    "        total *=x\n",
    "print(total)        "
   ]
  },
  {
   "cell_type": "code",
   "execution_count": null,
   "id": "3eada7c7-42f6-4f33-952b-ee43b2fa75c1",
   "metadata": {},
   "outputs": [],
   "source": [
    "data=\"elephant\"\n",
    "for "
   ]
  },
  {
   "cell_type": "code",
   "execution_count": 1,
   "id": "2ad7f207-7bcf-46cf-a14a-f922eeeaf67c",
   "metadata": {},
   "outputs": [
    {
     "name": "stdout",
     "output_type": "stream",
     "text": [
      "10 11 12 13 14 \n",
      "15 16 17 18 19 \n"
     ]
    }
   ],
   "source": [
    "x=10\n",
    "for i in range(1,3):\n",
    "\n",
    "    for j in range(1,6,1):\n",
    "        print(x,end=\" \")\n",
    "        x +=1\n",
    "    print(\"\")"
   ]
  },
  {
   "cell_type": "code",
   "execution_count": 47,
   "id": "3187caeb-3176-4930-92c3-11f76cf95939",
   "metadata": {},
   "outputs": [
    {
     "name": "stdout",
     "output_type": "stream",
     "text": [
      "* \n",
      "* * \n",
      "* * * \n",
      "* * * * \n"
     ]
    }
   ],
   "source": [
    "\n",
    "for i in range(1, 5):\n",
    "    for j in range(1, i + 1):\n",
    "        print('*', end=' ')\n",
    "    print()   "
   ]
  },
  {
   "cell_type": "code",
   "execution_count": 48,
   "id": "623b597f-9246-4db7-99b0-8b7bddd0ec9b",
   "metadata": {},
   "outputs": [
    {
     "name": "stdout",
     "output_type": "stream",
     "text": [
      "1 \n",
      "2 2 \n",
      "3 3 3 \n",
      "4 4 4 4 \n"
     ]
    }
   ],
   "source": [
    "for i in range(1, 5):\n",
    "    for j in range(1, i + 1):\n",
    "        print(i, end=' ')\n",
    "    print()   "
   ]
  },
  {
   "cell_type": "code",
   "execution_count": 49,
   "id": "59c68802-a1a8-4419-ae93-15e768013c49",
   "metadata": {},
   "outputs": [
    {
     "name": "stdout",
     "output_type": "stream",
     "text": [
      "* * * * \n",
      "* * * \n",
      "* * \n",
      "* \n"
     ]
    }
   ],
   "source": [
    "for i in range(1, 5):\n",
    "    for j in range(4, i - 1,-1):\n",
    "        print('*', end=' ')\n",
    "    print()   "
   ]
  },
  {
   "cell_type": "code",
   "execution_count": 50,
   "id": "3c972cc9-7a3d-4934-bcec-eb31ce3740e3",
   "metadata": {},
   "outputs": [
    {
     "name": "stdout",
     "output_type": "stream",
     "text": [
      "1 1 1 1 \n",
      "2 2 2 \n",
      "3 3 \n",
      "4 \n"
     ]
    }
   ],
   "source": [
    "for i in range(1, 5):\n",
    "    for j in range(4, i - 1,-1):\n",
    "        print(i, end=' ')\n",
    "    print()   "
   ]
  },
  {
   "cell_type": "code",
   "execution_count": 51,
   "id": "bdf38bd3-1b2d-42af-b6db-d3fda4b1682c",
   "metadata": {},
   "outputs": [
    {
     "name": "stdout",
     "output_type": "stream",
     "text": [
      "4 3 2 1 \n",
      "4 3 2 \n",
      "4 3 \n",
      "4 \n"
     ]
    }
   ],
   "source": [
    "for i in range(1, 5):\n",
    "    for j in range(4, i - 1,-1):\n",
    "        print(j, end=' ')\n",
    "    print()"
   ]
  },
  {
   "cell_type": "code",
   "execution_count": 52,
   "id": "543ad81c-2d0c-4553-9031-090315ce19f2",
   "metadata": {},
   "outputs": [
    {
     "name": "stdout",
     "output_type": "stream",
     "text": [
      "1 \n",
      "1 2 \n",
      "1 2 3 \n",
      "1 2 3 4 \n"
     ]
    }
   ],
   "source": [
    "for i in range(1, 5):\n",
    "    for j in range(1, i + 1):\n",
    "        print(j, end=' ')\n",
    "    print()"
   ]
  },
  {
   "cell_type": "code",
   "execution_count": 53,
   "id": "16aad0ab-e29d-4cb0-8e48-dad423dc05c3",
   "metadata": {},
   "outputs": [
    {
     "name": "stdout",
     "output_type": "stream",
     "text": [
      "4 \n",
      "3 3 \n",
      "2 2 2 \n",
      "1 1 1 1 \n"
     ]
    }
   ],
   "source": [
    "for i in range(4,0,-1):\n",
    "    for j in range(4, i - 1,-1):\n",
    "        print(i, end=' ')\n",
    "    print()"
   ]
  },
  {
   "cell_type": "code",
   "execution_count": 60,
   "id": "3e3887b7-e58b-4d98-95a3-704c2c597b77",
   "metadata": {},
   "outputs": [
    {
     "name": "stdout",
     "output_type": "stream",
     "text": [
      "10 10 10 10 10 \n",
      "11 11 11 11 \n",
      "12 12 12 \n",
      "13 13 \n"
     ]
    }
   ],
   "source": [
    "for i in range(10, 14):\n",
    "    for j in range(14, i - 1,-1):\n",
    "        print(i, end=' ')\n",
    "    print()"
   ]
  }
 ],
 "metadata": {
  "kernelspec": {
   "display_name": "Python 3 (ipykernel)",
   "language": "python",
   "name": "python3"
  },
  "language_info": {
   "codemirror_mode": {
    "name": "ipython",
    "version": 3
   },
   "file_extension": ".py",
   "mimetype": "text/x-python",
   "name": "python",
   "nbconvert_exporter": "python",
   "pygments_lexer": "ipython3",
   "version": "3.11.9"
  }
 },
 "nbformat": 4,
 "nbformat_minor": 5
}
