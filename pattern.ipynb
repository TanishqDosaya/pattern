{
 "cells": [
  {
   "cell_type": "code",
   "execution_count": 1,
   "id": "4f363861-b7b6-49c3-9920-01d97e993e43",
   "metadata": {},
   "outputs": [
    {
     "name": "stdout",
     "output_type": "stream",
     "text": [
      "45\n"
     ]
    }
   ],
   "source": [
    "total=0\n",
    "\n",
    "for x in range(1,10):\n",
    "    total +=x\n",
    "print(total)"
   ]
  },
  {
   "cell_type": "code",
   "execution_count": 2,
   "id": "c9735295-21d7-49c1-9271-8c62921782d5",
   "metadata": {},
   "outputs": [
    {
     "name": "stdout",
     "output_type": "stream",
     "text": [
      "819798470064680730624000\n"
     ]
    }
   ],
   "source": [
    "total=1\n",
    "for x in range(15,101):\n",
    "    if(x%2==0 and x%3==0):\n",
    "        total *=x\n",
    "print(total)        "
   ]
  },
  {
   "cell_type": "code",
   "execution_count": 1,
   "id": "2ad7f207-7bcf-46cf-a14a-f922eeeaf67c",
   "metadata": {},
   "outputs": [
    {
     "name": "stdout",
     "output_type": "stream",
     "text": [
      "10 11 12 13 14 \n",
      "15 16 17 18 19 \n"
     ]
    }
   ],
   "source": [
    "x=10\n",
    "for i in range(1,3):\n",
    "\n",
    "    for j in range(1,6,1):\n",
    "        print(x,end=\" \")\n",
    "        x +=1\n",
    "    print(\"\")"
   ]
  },
  {
   "cell_type": "code",
   "execution_count": 47,
   "id": "3187caeb-3176-4930-92c3-11f76cf95939",
   "metadata": {},
   "outputs": [
    {
     "name": "stdout",
     "output_type": "stream",
     "text": [
      "* \n",
      "* * \n",
      "* * * \n",
      "* * * * \n"
     ]
    }
   ],
   "source": [
    "\n",
    "for i in range(1, 5):\n",
    "    for j in range(1, i + 1):\n",
    "        print('*', end=' ')\n",
    "    print()   "
   ]
  },
  {
   "cell_type": "code",
   "execution_count": 48,
   "id": "623b597f-9246-4db7-99b0-8b7bddd0ec9b",
   "metadata": {},
   "outputs": [
    {
     "name": "stdout",
     "output_type": "stream",
     "text": [
      "1 \n",
      "2 2 \n",
      "3 3 3 \n",
      "4 4 4 4 \n"
     ]
    }
   ],
   "source": [
    "for i in range(1, 5):\n",
    "    for j in range(1, i + 1):\n",
    "        print(i, end=' ')\n",
    "    print()   "
   ]
  },
  {
   "cell_type": "code",
   "execution_count": 49,
   "id": "59c68802-a1a8-4419-ae93-15e768013c49",
   "metadata": {},
   "outputs": [
    {
     "name": "stdout",
     "output_type": "stream",
     "text": [
      "* * * * \n",
      "* * * \n",
      "* * \n",
      "* \n"
     ]
    }
   ],
   "source": [
    "for i in range(1, 5):\n",
    "    for j in range(4, i - 1,-1):\n",
    "        print('*', end=' ')\n",
    "    print()   "
   ]
  },
  {
   "cell_type": "code",
   "execution_count": 50,
   "id": "3c972cc9-7a3d-4934-bcec-eb31ce3740e3",
   "metadata": {},
   "outputs": [
    {
     "name": "stdout",
     "output_type": "stream",
     "text": [
      "1 1 1 1 \n",
      "2 2 2 \n",
      "3 3 \n",
      "4 \n"
     ]
    }
   ],
   "source": [
    "for i in range(1, 5):\n",
    "    for j in range(4, i - 1,-1):\n",
    "        print(i, end=' ')\n",
    "    print()   "
   ]
  },
  {
   "cell_type": "code",
   "execution_count": 51,
   "id": "bdf38bd3-1b2d-42af-b6db-d3fda4b1682c",
   "metadata": {},
   "outputs": [
    {
     "name": "stdout",
     "output_type": "stream",
     "text": [
      "4 3 2 1 \n",
      "4 3 2 \n",
      "4 3 \n",
      "4 \n"
     ]
    }
   ],
   "source": [
    "for i in range(1, 5):\n",
    "    for j in range(4, i - 1,-1):\n",
    "        print(j, end=' ')\n",
    "    print()"
   ]
  },
  {
   "cell_type": "code",
   "execution_count": 52,
   "id": "543ad81c-2d0c-4553-9031-090315ce19f2",
   "metadata": {},
   "outputs": [
    {
     "name": "stdout",
     "output_type": "stream",
     "text": [
      "1 \n",
      "1 2 \n",
      "1 2 3 \n",
      "1 2 3 4 \n"
     ]
    }
   ],
   "source": [
    "for i in range(1, 5):\n",
    "    for j in range(1, i + 1):\n",
    "        print(j, end=' ')\n",
    "    print()"
   ]
  },
  {
   "cell_type": "code",
   "execution_count": 53,
   "id": "16aad0ab-e29d-4cb0-8e48-dad423dc05c3",
   "metadata": {},
   "outputs": [
    {
     "name": "stdout",
     "output_type": "stream",
     "text": [
      "4 \n",
      "3 3 \n",
      "2 2 2 \n",
      "1 1 1 1 \n"
     ]
    }
   ],
   "source": [
    "for i in range(4,0,-1):\n",
    "    for j in range(4, i - 1,-1):\n",
    "        print(i, end=' ')\n",
    "    print()"
   ]
  },
  {
   "cell_type": "code",
   "execution_count": 60,
   "id": "3e3887b7-e58b-4d98-95a3-704c2c597b77",
   "metadata": {},
   "outputs": [
    {
     "name": "stdout",
     "output_type": "stream",
     "text": [
      "10 10 10 10 10 \n",
      "11 11 11 11 \n",
      "12 12 12 \n",
      "13 13 \n"
     ]
    }
   ],
   "source": [
    "for i in range(10, 14):\n",
    "    for j in range(14, i - 1,-1):\n",
    "        print(i, end=' ')\n",
    "    print()"
   ]
  },
  {
   "cell_type": "code",
   "execution_count": 5,
   "id": "c3ca2845-1bfa-488a-9da9-62c443975611",
   "metadata": {},
   "outputs": [
    {
     "name": "stdin",
     "output_type": "stream",
     "text": [
      "Enter the maximum number of stars in the middle row:  3\n"
     ]
    },
    {
     "name": "stdout",
     "output_type": "stream",
     "text": [
      "* \n",
      "* * \n",
      "* * * \n",
      "* * \n",
      "* \n"
     ]
    }
   ],
   "source": [
    "n = int(input(\"Enter the maximum number of stars in the middle row: \"))\n",
    "\n",
    "lines = list(range(1, n + 1)) + list(range(n - 1, 0, -1))\n",
    "    \n",
    "for line in lines:\n",
    "    for j in range(line):\n",
    "        print(\"*\", end=\" \")\n",
    "    print()"
   ]
  },
  {
   "cell_type": "code",
   "execution_count": 8,
   "id": "1f5d14ff-a9f0-439e-b149-21d14a16fcec",
   "metadata": {},
   "outputs": [
    {
     "name": "stdin",
     "output_type": "stream",
     "text": [
      "Enter the number for n:  5\n"
     ]
    },
    {
     "name": "stdout",
     "output_type": "stream",
     "text": [
      "1 2 3 4 5 \n",
      "  2     5 \n",
      "    3   5 \n",
      "      4 5 \n",
      "        5 \n"
     ]
    }
   ],
   "source": [
    "n = int(input(\"Enter the number for n: \"))\n",
    "# First row: 1 to n\n",
    "for i in range(1, n + 1):\n",
    "    print(i, end=\" \")\n",
    "print()\n",
    "\n",
    "    # Following rows\n",
    "for i in range(2, n + 1):\n",
    "        # Spaces before the numbers\n",
    "    for j in range(1, i):\n",
    "        print(\" \", end=\" \")\n",
    "        # The diagonal number\n",
    "    print(i, end=\" \")\n",
    "        # Spaces between the diagonal and the last number\n",
    "    for j in range(i + 1, n):\n",
    "        print(\" \", end=\" \")\n",
    "        # The last number in the row\n",
    "    if i != n:\n",
    "        print(n, end=\" \")\n",
    "    print()"
   ]
  },
  {
   "cell_type": "code",
   "execution_count": 10,
   "id": "8156a7be-9597-4758-b03a-effeed1a0700",
   "metadata": {},
   "outputs": [
    {
     "name": "stdin",
     "output_type": "stream",
     "text": [
      "Enter the number for n:  5\n"
     ]
    },
    {
     "name": "stdout",
     "output_type": "stream",
     "text": [
      "* * * * * \n",
      "    *     \n",
      "    *     \n",
      "    *     \n",
      "    *     \n"
     ]
    }
   ],
   "source": [
    "n = int(input(\"Enter the number for n: \"))\n",
    "\n",
    "# Print the top horizontal part of the T\n",
    "for i in range(n):\n",
    "    print('*', end=' ')\n",
    "print()\n",
    "\n",
    "# Print the vertical part of the T\n",
    "for i in range(n - 1):\n",
    "    for j in range(n):\n",
    "        if j == n // 2:\n",
    "            print('*', end=' ')\n",
    "        else:\n",
    "            print(' ', end=' ')\n",
    "    print()"
   ]
  },
  {
   "cell_type": "code",
   "execution_count": 11,
   "id": "e9ad632a-7616-4fd8-8a15-22785597b361",
   "metadata": {},
   "outputs": [
    {
     "name": "stdout",
     "output_type": "stream",
     "text": [
      "A B C D \n",
      "  B C D \n",
      "    C D \n",
      "      D \n"
     ]
    }
   ],
   "source": [
    "n = 4\n",
    "chars = 'ABCD'\n",
    "\n",
    "# Print the pattern\n",
    "for i in range(n):\n",
    "    for j in range(n):\n",
    "        if j < i:\n",
    "            print(' ', end=' ')\n",
    "        else:\n",
    "            print(chars[j], end=' ')\n",
    "    print()"
   ]
  },
  {
   "cell_type": "code",
   "execution_count": 13,
   "id": "32e92a27-5759-48ce-a59a-e575460162e9",
   "metadata": {},
   "outputs": [
    {
     "name": "stdout",
     "output_type": "stream",
     "text": [
      "ABCD\n",
      " B D\n",
      "  CD\n",
      "   D\n"
     ]
    }
   ],
   "source": [
    "n = 4  # Number of lines\n",
    "\n",
    "for i in range(n):\n",
    "    for j in range(n):\n",
    "        if i == 0:\n",
    "            print(chr(65 + j), end=\"\")  # Print A, B, C, D\n",
    "        elif i == 1:\n",
    "            if j == 1 or j == 3:\n",
    "                print(chr(65 + j), end=\"\")  # Print B and D\n",
    "            else:\n",
    "                print(\" \", end=\"\")  # Print spaces\n",
    "        elif i == 2:\n",
    "            if j >= 2:\n",
    "                print(chr(65 + j), end=\"\")  # Print C and D\n",
    "            else:\n",
    "                print(\" \", end=\"\")  # Print spaces\n",
    "        elif i == 3:\n",
    "            if j == 3:\n",
    "                print(chr(65 + j), end=\"\")  # Print D\n",
    "            else:\n",
    "                print(\" \", end=\"\")  # Print spaces\n",
    "    print()  # Move to the next line\n"
   ]
  },
  {
   "cell_type": "code",
   "execution_count": 16,
   "id": "3c233665-a319-437c-bce6-f72c82feccee",
   "metadata": {},
   "outputs": [
    {
     "name": "stdout",
     "output_type": "stream",
     "text": [
      "  *\n",
      " ***\n",
      "*****\n"
     ]
    }
   ],
   "source": [
    "n = 3  # Number of rows\n",
    "\n",
    "for i in range(n):\n",
    "    # Print leading spaces\n",
    "    for j in range(n - i - 1):\n",
    "        print(\" \", end=\"\")\n",
    "    # Print stars\n",
    "    for k in range(2 * i + 1):\n",
    "        print(\"*\", end=\"\")\n",
    "    # Move to the next line\n",
    "    print()\n"
   ]
  },
  {
   "cell_type": "code",
   "execution_count": 17,
   "id": "d1cf8ecc-00ec-47c0-aa2d-e365df2ec4ac",
   "metadata": {},
   "outputs": [
    {
     "name": "stdout",
     "output_type": "stream",
     "text": [
      "* * * * * \n",
      "* * * * \n",
      "* * * \n",
      "* * \n",
      "* \n"
     ]
    }
   ],
   "source": [
    "n = 5  # Number of rows\n",
    "\n",
    "for i in range(n, 0, -1):\n",
    "    for j in range(i):\n",
    "        print(\"*\", end=\" \")\n",
    "    print() "
   ]
  },
  {
   "cell_type": "code",
   "execution_count": null,
   "id": "c5ed28f8-f15b-4bfb-97a6-07e72cb2fe6f",
   "metadata": {},
   "outputs": [],
   "source": []
  }
 ],
 "metadata": {
  "kernelspec": {
   "display_name": "Python 3 (ipykernel)",
   "language": "python",
   "name": "python3"
  },
  "language_info": {
   "codemirror_mode": {
    "name": "ipython",
    "version": 3
   },
   "file_extension": ".py",
   "mimetype": "text/x-python",
   "name": "python",
   "nbconvert_exporter": "python",
   "pygments_lexer": "ipython3",
   "version": "3.11.9"
  }
 },
 "nbformat": 4,
 "nbformat_minor": 5
}
